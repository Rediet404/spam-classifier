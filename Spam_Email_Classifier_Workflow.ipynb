{
 "cells": [
  {
   "cell_type": "markdown",
   "id": "d86cd843",
   "metadata": {},
   "source": [
    "## 1. Data Collection & Loading"
   ]
  },
  {
   "cell_type": "code",
   "execution_count": 2,
   "id": "4c3d5937",
   "metadata": {},
   "outputs": [
    {
     "name": "stdout",
     "output_type": "stream",
     "text": [
      "Dataset shape: (4601, 58)\n",
      "\n",
      "Missing values:\n",
      " feature_0     0\n",
      "feature_1     0\n",
      "feature_2     0\n",
      "feature_3     0\n",
      "feature_4     0\n",
      "feature_5     0\n",
      "feature_6     0\n",
      "feature_7     0\n",
      "feature_8     0\n",
      "feature_9     0\n",
      "feature_10    0\n",
      "feature_11    0\n",
      "feature_12    0\n",
      "feature_13    0\n",
      "feature_14    0\n",
      "feature_15    0\n",
      "feature_16    0\n",
      "feature_17    0\n",
      "feature_18    0\n",
      "feature_19    0\n",
      "feature_20    0\n",
      "feature_21    0\n",
      "feature_22    0\n",
      "feature_23    0\n",
      "feature_24    0\n",
      "feature_25    0\n",
      "feature_26    0\n",
      "feature_27    0\n",
      "feature_28    0\n",
      "feature_29    0\n",
      "feature_30    0\n",
      "feature_31    0\n",
      "feature_32    0\n",
      "feature_33    0\n",
      "feature_34    0\n",
      "feature_35    0\n",
      "feature_36    0\n",
      "feature_37    0\n",
      "feature_38    0\n",
      "feature_39    0\n",
      "feature_40    0\n",
      "feature_41    0\n",
      "feature_42    0\n",
      "feature_43    0\n",
      "feature_44    0\n",
      "feature_45    0\n",
      "feature_46    0\n",
      "feature_47    0\n",
      "feature_48    0\n",
      "feature_49    0\n",
      "feature_50    0\n",
      "feature_51    0\n",
      "feature_52    0\n",
      "feature_53    0\n",
      "feature_54    0\n",
      "feature_55    0\n",
      "feature_56    0\n",
      "label         0\n",
      "dtype: int64\n",
      "\n",
      "Class distribution:\n",
      " label\n",
      "0    0.605955\n",
      "1    0.394045\n",
      "Name: proportion, dtype: float64\n"
     ]
    },
    {
     "data": {
      "image/png": "[encoded data removed]",
      "text/plain": [
       "<Figure size 1000x600 with 1 Axes>"
      ]
     },
     "metadata": {},
     "output_type": "display_data"
    }
   ],
   "source": [
    "import pandas as pd\n",
    "\n",
    "\n",
    "# Load dataset from UCI repository\n",
    "url = \"https://archive.ics.uci.edu/ml/machine-learning-databases/spambase/spambase.data\"\n",
    "\n",
    "# Assign column names\n",
    "column_names = [f'feature_{i}' for i in range(57)] + ['label']\n",
    "df = pd.read_csv(url, header=None, names=column_names)\n",
    "df.head()\n",
    "\n",
    "# After data loading\n",
    "print(\"Dataset shape:\", df.shape)\n",
    "print(\"\\nMissing values:\\n\", df.isnull().sum())\n",
    "print(\"\\nClass distribution:\\n\", df['label'].value_counts(normalize=True))\n",
    "\n",
    "# Basic EDA\n",
    "import matplotlib.pyplot as plt\n",
    "import seaborn as sns\n",
    "\n",
    "plt.figure(figsize=(10, 6))\n",
    "sns.countplot(data=df, x='label')\n",
    "plt.title('Class Distribution')\n",
    "plt.show()"
   ]
  },
  {
   "cell_type": "markdown",
   "id": "8c7b7ef1",
   "metadata": {},
   "source": [
    "## 2. Preprocessing"
   ]
  },
  {
   "cell_type": "code",
   "execution_count": 9,
   "id": "7a96b685",
   "metadata": {},
   "outputs": [],
   "source": [
    "from sklearn.model_selection import train_test_split\n",
    "from sklearn.preprocessing import StandardScaler\n",
    "\n",
    "X = df.drop('label', axis=1)\n",
    "y = df['label']\n",
    "\n",
    "# Standardize features\n",
    "scaler = StandardScaler()\n",
    "X_scaled = scaler.fit_transform(X)\n",
    "\n",
    "# Train-test split\n",
    "X_train, X_test, y_train, y_test = train_test_split(X_scaled, y, test_size=0.2, random_state=42)\n",
    "\n"
   ]
  },
  {
   "cell_type": "markdown",
   "id": "d208477d",
   "metadata": {},
   "source": [
    "## 3. Model Development"
   ]
  },
  {
   "cell_type": "code",
   "execution_count": 4,
   "id": "5cbd88db",
   "metadata": {},
   "outputs": [
    {
     "name": "stdout",
     "output_type": "stream",
     "text": [
      "Logistic Regression trained.\n",
      "Naive Bayes trained.\n",
      "SVM trained.\n",
      "Random Forest trained.\n"
     ]
    }
   ],
   "source": [
    "from sklearn.linear_model import LogisticRegression\n",
    "from sklearn.naive_bayes import GaussianNB\n",
    "from sklearn.svm import SVC\n",
    "from sklearn.ensemble import RandomForestClassifier\n",
    "\n",
    "models = {\n",
    "    \"Logistic Regression\": LogisticRegression(),\n",
    "    \"Naive Bayes\": GaussianNB(),\n",
    "    \"SVM\": SVC(),\n",
    "    \"Random Forest\": RandomForestClassifier()\n",
    "}\n",
    "\n",
    "# Train each model\n",
    "for name, model in models.items():\n",
    "    model.fit(X_train, y_train)\n",
    "    print(f\"{name} trained.\")"
   ]
  },
  {
   "cell_type": "markdown",
   "id": "7c353833",
   "metadata": {},
   "source": [
    "## 4. Evaluation"
   ]
  },
  {
   "cell_type": "code",
   "execution_count": 6,
   "id": "38fb11bd",
   "metadata": {
    "scrolled": true
   },
   "outputs": [
    {
     "name": "stdout",
     "output_type": "stream",
     "text": [
      "\n",
      "Logistic Regression Evaluation:\n",
      "              precision    recall  f1-score   support\n",
      "\n",
      "           0       0.91      0.95      0.93       531\n",
      "           1       0.93      0.87      0.90       390\n",
      "\n",
      "    accuracy                           0.92       921\n",
      "   macro avg       0.92      0.91      0.92       921\n",
      "weighted avg       0.92      0.92      0.92       921\n",
      "\n",
      "Confusion Matrix:\n",
      " [[506  25]\n",
      " [ 49 341]]\n",
      "\n",
      "Naive Bayes Evaluation:\n",
      "              precision    recall  f1-score   support\n",
      "\n",
      "           0       0.94      0.74      0.83       531\n",
      "           1       0.72      0.94      0.82       390\n",
      "\n",
      "    accuracy                           0.82       921\n",
      "   macro avg       0.83      0.84      0.82       921\n",
      "weighted avg       0.85      0.82      0.82       921\n",
      "\n",
      "Confusion Matrix:\n",
      " [[391 140]\n",
      " [ 24 366]]\n",
      "\n",
      "SVM Evaluation:\n",
      "              precision    recall  f1-score   support\n",
      "\n",
      "           0       0.92      0.97      0.94       531\n",
      "           1       0.95      0.89      0.92       390\n",
      "\n",
      "    accuracy                           0.93       921\n",
      "   macro avg       0.94      0.93      0.93       921\n",
      "weighted avg       0.94      0.93      0.93       921\n",
      "\n",
      "Confusion Matrix:\n",
      " [[513  18]\n",
      " [ 42 348]]\n",
      "\n",
      "Random Forest Evaluation:\n",
      "              precision    recall  f1-score   support\n",
      "\n",
      "           0       0.95      0.98      0.96       531\n",
      "           1       0.98      0.92      0.95       390\n",
      "\n",
      "    accuracy                           0.96       921\n",
      "   macro avg       0.96      0.95      0.96       921\n",
      "weighted avg       0.96      0.96      0.96       921\n",
      "\n",
      "Confusion Matrix:\n",
      " [[522   9]\n",
      " [ 30 360]]\n",
      "\n",
      "Model Performance Summary:\n",
      "+---------------------+------------+-------------+----------+------------+\n",
      "| Model               |   Accuracy |   Precision |   Recall |   F1-Score |\n",
      "+=====================+============+=============+==========+============+\n",
      "| Logistic Regression |      0.920 |       0.932 |    0.874 |      0.902 |\n",
      "+---------------------+------------+-------------+----------+------------+\n",
      "| Naive Bayes         |      0.822 |       0.723 |    0.938 |      0.817 |\n",
      "+---------------------+------------+-------------+----------+------------+\n",
      "| SVM                 |      0.935 |       0.951 |    0.892 |      0.921 |\n",
      "+---------------------+------------+-------------+----------+------------+\n",
      "| Random Forest       |      0.958 |       0.976 |    0.923 |      0.949 |\n",
      "+---------------------+------------+-------------+----------+------------+\n"
     ]
    }
   ],
   "source": [
    "from sklearn.metrics import (\n",
    "accuracy_score, precision_score, recall_score, f1_score,\n",
    "classification_report, confusion_matrix)\n",
    "from tabulate import tabulate\n",
    "\n",
    "\n",
    "# Evaluate each model\n",
    "for name, model in models.items():\n",
    "    y_pred = model.predict(X_test)\n",
    "    print(f\"\\n{name} Evaluation:\")\n",
    "    print(classification_report(y_test, y_pred))\n",
    "    print(\"Confusion Matrix:\\n\", confusion_matrix(y_test, y_pred))\n",
    "\n",
    "performance_summary = []\n",
    "for name, model in models.items():\n",
    "    y_pred = model.predict(X_test)\n",
    "    accuracy = accuracy_score(y_test, y_pred)\n",
    "    precision = precision_score(y_test, y_pred)\n",
    "    recall = recall_score(y_test, y_pred)\n",
    "    f1 = f1_score(y_test, y_pred)\n",
    "    performance_summary.append([name, accuracy, precision, recall, f1])\n",
    "\n",
    "print(\"\\nModel Performance Summary:\")\n",
    "print(tabulate(performance_summary, \n",
    "               headers=['Model', 'Accuracy', 'Precision', 'Recall', 'F1-Score'],\n",
    "               tablefmt='grid',\n",
    "               floatfmt='.3f'))"
   ]
  },
  {
   "cell_type": "markdown",
   "id": "8cbef2e0",
   "metadata": {},
   "source": [
    "## 5. Hyperparameter Tuning"
   ]
  },
  {
   "cell_type": "code",
   "execution_count": 8,
   "id": "2da8d383",
   "metadata": {},
   "outputs": [
    {
     "name": "stdout",
     "output_type": "stream",
     "text": [
      "Fitting 5 folds for each of 36 candidates, totalling 180 fits\n"
     ]
    },
    {
     "data": {
      "image/png": "[encoded data removed]",
      "text/plain": [
       "<Figure size 1200x600 with 1 Axes>"
      ]
     },
     "metadata": {},
     "output_type": "display_data"
    },
    {
     "name": "stdout",
     "output_type": "stream",
     "text": [
      "\n",
      "Top 5 Parameter Combinations:\n",
      "                                               params  mean_test_score  \\\n",
      "2   {'max_depth': None, 'min_samples_leaf': 1, 'mi...         0.953533   \n",
      "1   {'max_depth': None, 'min_samples_leaf': 1, 'mi...         0.952174   \n",
      "0   {'max_depth': None, 'min_samples_leaf': 1, 'mi...         0.950272   \n",
      "4   {'max_depth': None, 'min_samples_leaf': 1, 'mi...         0.948913   \n",
      "24  {'max_depth': 20, 'min_samples_leaf': 1, 'min_...         0.948370   \n",
      "\n",
      "    std_test_score  \n",
      "2         0.010503  \n",
      "1         0.009699  \n",
      "0         0.010297  \n",
      "4         0.007422  \n",
      "24        0.007190  \n",
      "Best parameters: {'max_depth': None, 'min_samples_leaf': 1, 'min_samples_split': 2, 'n_estimators': 150}\n",
      "Best estimator: RandomForestClassifier(n_estimators=150, random_state=42)\n"
     ]
    }
   ],
   "source": [
    "from sklearn.ensemble import RandomForestClassifier\n",
    "from sklearn.model_selection import GridSearchCV\n",
    "import pandas as pd\n",
    "import matplotlib.pyplot as plt\n",
    "\n",
    "\n",
    "# Define the model\n",
    "rf = RandomForestClassifier(random_state=42)\n",
    "\n",
    "# Define the parameter grid for tuning\n",
    "param_grid = {\n",
    "    'n_estimators': [50, 100, 150],\n",
    "    'max_depth': [None, 10, 20],\n",
    "    'min_samples_split': [2, 5],\n",
    "    'min_samples_leaf': [1, 2]\n",
    "}\n",
    "\n",
    "# Setup GridSearchCV\n",
    "grid = GridSearchCV(rf, param_grid, cv=5, n_jobs=-1, verbose=1)\n",
    "grid.fit(X_train, y_train)\n",
    "# Visualize grid search results\n",
    "\n",
    "# Convert grid search results to DataFrame\n",
    "cv_results = pd.DataFrame(grid.cv_results_)\n",
    "cv_results = cv_results.sort_values('rank_test_score')\n",
    "\n",
    "# Plot mean test scores for different parameter combinations\n",
    "plt.figure(figsize=(12, 6))\n",
    "plt.plot(cv_results['mean_test_score'])\n",
    "plt.title('Grid Search Results')\n",
    "plt.xlabel('Parameter Combination')\n",
    "plt.ylabel('Mean Test Score')\n",
    "plt.xticks(rotation=45)\n",
    "plt.tight_layout()\n",
    "plt.show()\n",
    "\n",
    "# Print top 5 parameter combinations\n",
    "print(\"\\nTop 5 Parameter Combinations:\")\n",
    "print(cv_results[['params', 'mean_test_score', 'std_test_score']].head())\n",
    "\n",
    "# Output best parameters and estimator\n",
    "print(\"Best parameters:\", grid.best_params_)\n",
    "print(\"Best estimator:\", grid.best_estimator_)\n",
    "\n",
    "\n"
   ]
  },
  {
   "cell_type": "markdown",
   "id": "dcbf4704",
   "metadata": {},
   "source": [
    "## 6. Deployment"
   ]
  },
  {
   "cell_type": "code",
   "execution_count": null,
   "id": "1db607a4",
   "metadata": {},
   "outputs": [],
   "source": [
    "import joblib\n",
    "import pandas as pd\n",
    "\n",
    "def classify_email(input_features):\n",
    "    # Load trained model and scaler\n",
    "    model = joblib.load(\"spam_classifier_model.pkl\")\n",
    "    scaler = joblib.load(\"spam_scaler.pkl\")\n",
    "\n",
    "    # Convert input to DataFrame and scale\n",
    "    input_df = pd.DataFrame([input_features])\n",
    "    input_scaled = scaler.transform(input_df)\n",
    "\n",
    "    # Predict and return label\n",
    "    prediction = model.predict(input_scaled)[0]\n",
    "    return \"SPAM\" if prediction == 1 else \"NOT SPAM\"\n"
   ]
  },
  {
   "cell_type": "code",
   "execution_count": null,
   "id": "bf9cbfe6-1f39-442a-a829-5e814845d3fd",
   "metadata": {},
   "outputs": [],
   "source": []
  }
 ],
 "metadata": {
  "kernelspec": {
   "display_name": "Python 3 (ipykernel)",
   "language": "python",
   "name": "python3"
  },
  "language_info": {
   "codemirror_mode": {
    "name": "ipython",
    "version": 3
   },
   "file_extension": ".py",
   "mimetype": "text/x-python",
   "name": "python",
   "nbconvert_exporter": "python",
   "pygments_lexer": "ipython3",
   "version": "3.12.9"
  }
 },
 "nbformat": 4,
 "nbformat_minor": 5
}
